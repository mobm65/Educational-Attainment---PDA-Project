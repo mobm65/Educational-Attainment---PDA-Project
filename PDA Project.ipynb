{
 "cells": [
  {
   "cell_type": "code",
   "execution_count": null,
   "metadata": {},
   "outputs": [],
   "source": [
    "# PROGRAMMING FOR DATA ANALYSIS PROJECT"
   ]
  },
  {
   "cell_type": "code",
   "execution_count": null,
   "metadata": {},
   "outputs": [],
   "source": [
    "#### Sources\n",
    "\n",
    "P. Cortez and A. Silva. Using Data Mining to Predict Secondary School Student Performance. In A. Brito and J. Teixeira Eds., Proceedings of 5th FUture BUsiness TEChnology Conference (FUBUTEC 2008) pp. 5-12, Porto, Portugal, April, 2008, EUROSIS, ISBN 978-9077381-39-7. \n",
    "http://www3.dsi.uminho.pt/pcortez/student.pdf"
   ]
  },
  {
   "cell_type": "code",
   "execution_count": null,
   "metadata": {},
   "outputs": [],
   "source": [
    "I predict there is a link between the variables; school attendance, mother's education, father's education, plans to attend \n",
    "higher education and achievement.  I will use the dataset produced by Cortez and Silva which includes these variables among others.\n",
    "First I will import the dataset and eliminate the other variables until I have the ones I want to investigate.  "
   ]
  },
  {
   "cell_type": "code",
   "execution_count": null,
   "metadata": {},
   "outputs": [],
   "source": [
    "import pandas as pd\n",
    "\n",
    "#The dataset was in a zipped file so I had to unzip it, save it to my local machine and then read the filename into\n",
    "#Jupyter.  The file was not saved using commas as delimiters so I added the parameter delimiter = ; so Pandas could\n",
    "#organise the information into a separated file of rows and columns.  The folder is saved as student with the other files\n",
    "#relating to this project.  This folder has four files from which I have chosen the file to do with achievement in maths.\n",
    "\n",
    "df = pd.read_csv(\"student/student-mat.csv\", delimiter=\";\")\n",
    "\n",
    "print(df)"
   ]
  },
  {
   "cell_type": "code",
   "execution_count": null,
   "metadata": {},
   "outputs": [],
   "source": []
  }
 ],
 "metadata": {
  "kernelspec": {
   "display_name": "Python 3",
   "language": "python",
   "name": "python3"
  },
  "language_info": {
   "codemirror_mode": {
    "name": "ipython",
    "version": 3
   },
   "file_extension": ".py",
   "mimetype": "text/x-python",
   "name": "python",
   "nbconvert_exporter": "python",
   "pygments_lexer": "ipython3",
   "version": "3.8.3"
  }
 },
 "nbformat": 4,
 "nbformat_minor": 4
}

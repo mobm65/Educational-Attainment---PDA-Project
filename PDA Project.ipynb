{
 "cells": [
  {
   "cell_type": "markdown",
   "metadata": {},
   "source": [
    "# PROGRAMMING FOR DATA ANALYSIS PROJECT"
   ]
  },
  {
   "cell_type": "markdown",
   "metadata": {},
   "source": [
    "\n",
    "\n",
    "### OBJECTIVES\n",
    "\n",
    "1 Source a dataset which has at least 100 data points across 4 variables.\n",
    "\n",
    "2 Investigate the variables, their likely distributions and their relationships\n",
    "    with each other.\n",
    "    \n",
    "3 Simulate a data set as closely matching the properties of the real world\n",
    "    data set as possible.\n"
   ]
  },
  {
   "cell_type": "markdown",
   "metadata": {},
   "source": [
    "#### Sources\n",
    "\n",
    "P. Cortez and A. Silva. Using Data Mining to Predict Secondary School Student Performance. In A. Brito and J. Teixeira Eds., Proceedings of 5th FUture BUsiness TEChnology Conference (FUBUTEC 2008) pp. 5-12, Porto, Portugal, April, 2008, EUROSIS, ISBN 978-9077381-39-7. \n",
    "http://www3.dsi.uminho.pt/pcortez/student.pdf\n",
    " These two sources were very useful.  I found my dataset in the first source and used the second to find out how the Cortez & Silva\n",
    "study related to predicting success in education by examining variables in the students' lives.\n",
    "\n",
    "http://uis.unesco.org/country/PT\n",
    "    Provides data of population of Portugal broken down by age.\n",
    "    \n",
    "https://www.oecd-ilibrary.org/docserver/9789264117020-4-en.pdf\n",
    "    Provided me with information about Portugese school system.\n",
    "   \n",
    "https://www.shanelynn.ie/using-pandas-dataframe-creating-editing-viewing-data-in-python/\n",
    "    This source helped me to tidy up the dataset into the columns and rows I wanted to keep.\n",
    "\n",
    "https://thispointer.com/python-pandas-how-to-display-full-dataframe-i-e-print-all-rows-columns-without-truncation/\n",
    "    This source helped me to find a way to display all the data in the dataset.\n",
    "    \n",
    "https://www.earthdatascience.org/courses/intro-to-earth-data-science/scientific-data-structures-python/pandas-dataframes/indexing-filtering-data-pandas-dataframes/\n",
    "    This source was very useful with appropriate functions to interpret the data.\n",
    "\n",
    "https://seaborn.pydata.org/\n",
    "    This source helped me to use correct syntax to plot my data.  It was also excellent to help me choose which plots to use.\n",
    "    \n",
    "https://www.bing.com/videos/search?q=normal+distribution+python\n",
    "    A useful video to help me code a normal distribution plot.\n",
    "    \n",
    "https://stackoverflow.com/questions/16312006/python-numpy-random-normal-only-positive-values\n",
    "    All my values are positive so a normal distribution will not show my data.  This site \n",
    "    suggested I try a binomial distribution.  A binomial distribution is a discrete distribution\n",
    "    which only represents yes/no or true/false options so this will not do.\n",
    "    \n",
    "https://python-graph-gallery.com/25-histogram-with-several-variables-seaborn/\n",
    "https://towardsdatascience.com/histograms-and-density-plots-in-python-f6bda88f5ac0\n",
    "    These sites helped me with data snippets I could manipulate to create plots to display \n",
    "    my dataset.\n",
    "    \n",
    "https://stackoverflow.com/questions/10138085/python-plot-normal-distribution \n",
    "http://www.johndcook.com/distributions_scipy.html \n",
    "http://docs.scipy.org/doc/scipy/reference/stats.html \n",
    "http://telliott99.blogspot.com/2010/02/plotting-normal-distribution-with.html\n",
    "The stackoverflow site offered some code to help me create a way to plot a normal distribution using my data mean and standard deviation. \n",
    "The other three urls are the sources of the code which I modified to plot my data. I had to abandon this method of illustration as it gave me negative values.\n",
    "\n",
    "https://www.youtube.com/watch?v=zQy0lEfXsVI \n",
    "Noureddin Sadawi runs this Youtube site on Pandas Dataframes, it helped me to construct my histograms.\n",
    "\n",
    "https://seaborn.pydata.org/tutorial/relational.html \n",
    "I used this site to plan my other plots to correlate data.\n",
    "        \n"
   ]
  },
  {
   "cell_type": "markdown",
   "metadata": {},
   "source": [
    "\n",
    "\n",
    "\n",
    "### FINDING A DATASET - Objective 1"
   ]
  },
  {
   "cell_type": "markdown",
   "metadata": {},
   "source": [
    "Silva and Cortez studied students in two subjects, Portugese and Maths.  I selected the csv for Maths because I thought \n",
    "it would be more relatable for me to choose a universal school subject.\n",
    "I predict there is a link between the variables; school attendance, mother's education, father's education, plans to attend \n",
    "higher education and achievement.  I will use the dataset produced by Cortez and Silva which includes these variables among others.\n",
    "First I will import the dataset and eliminate the other variables until I have the ones I want to investigate.  "
   ]
  },
  {
   "cell_type": "code",
   "execution_count": null,
   "metadata": {},
   "outputs": [],
   "source": [
    "# Import library and dataset.\n",
    "import pandas as pd\n",
    "\n",
    "# The dataset was in a zipped file so I had to unzip it, save it to my local machine and then read the filename into\n",
    "# Jupyter.  The file was not saved using commas as delimiters so I added the parameter delimiter = ; so Pandas could\n",
    "# organise the information into a separated file of rows and columns.  The folder is saved as student with the other files\n",
    "# relating to this project.  This original folder has four files from which I have chosen the file to do with \n",
    "# achievement in maths.\n",
    "\n",
    "dfgrade = pd.read_csv(\"student/student-mat.csv\", delimiter=\";\")\n",
    "\n",
    "# Check the types of data; object, int etc.\n",
    "dfgrade.dtypes\n",
    "\n",
    "# Show the full dataframe, I have commented this as it is very big.\n",
    "#print(dfgrade)\n"
   ]
  },
  {
   "cell_type": "code",
   "execution_count": null,
   "metadata": {},
   "outputs": [],
   "source": [
    "import pandas as pd\n",
    "dfgrade = pd.read_csv(\"student/student-mat.csv\", delimiter=\";\")\n",
    "\n",
    "\n",
    "# Use the drop function to take all the columns out which I will not be using.\n",
    "dfgrade = dfgrade.drop([\"school\", \"sex\", \"age\", \"address\",\"famsize\", \"Pstatus\", \"Mjob\", \"Fjob\", \"reason\", \"guardian\", \"traveltime\", \n",
    "             \"studytime\", \"failures\", \"schoolsup\", \"famsup\", \"paid\", \"activities\", \"nursery\", \"internet\", \n",
    "              \"romantic\", \"famrel\", \"freetime\", \"goout\", \"Dalc\", \"Walc\", \"health\"], axis=1)\n",
    "#print(dfgrade)\n",
    "\n",
    "# Having looked at all the data there is a large number of students who got\n",
    "# 0 as their final grade (G3).  I am going to take this group out of the cohort\n",
    "# because they are skewing the statistics.  I assume for one reason or another they\n",
    "# did not take the final exam.  I found this out further down and came back to this cell.\n",
    "\n",
    "dfgrade = dfgrade.drop([128, 130, 131, 134, 135, 136, 136, 137, 140, 144, 146, 148,\n",
    "           150, 153, 160, 162, 168, 170, 173, 221, 239, 242, 244,\n",
    "       259, 264, 269, 296, 310, 316, 332, 333, 334, 337, 341, 367, 387, 389])\n",
    "\n",
    "# Show the new dataframe, it now has 359 rows and 7 columns, excluding the index column.\n",
    "print(dfgrade)\n"
   ]
  },
  {
   "cell_type": "markdown",
   "metadata": {},
   "source": [
    "\n",
    "\n",
    "\n",
    "### INVESTIGATION OF DATA SET - Objective 2"
   ]
  },
  {
   "cell_type": "code",
   "execution_count": null,
   "metadata": {},
   "outputs": [],
   "source": [
    "# Information about the dataframe, the variables and their datatype.\n",
    "dfgrade.info()\n"
   ]
  },
  {
   "cell_type": "code",
   "execution_count": null,
   "metadata": {},
   "outputs": [],
   "source": [
    "# Statistical information about the variables showing the mean, standard deviation,\n",
    "# quartile values, maximum and minimum values.\n",
    "dfgrade.describe()\n"
   ]
  },
  {
   "cell_type": "code",
   "execution_count": null,
   "metadata": {},
   "outputs": [],
   "source": [
    "# To examine one data point use the iloc method to locate the piece of data\n",
    "# in the first position on the first row.\n",
    "dfgrade.iloc[0:1,0:1]\n"
   ]
  },
  {
   "cell_type": "code",
   "execution_count": null,
   "metadata": {},
   "outputs": [],
   "source": [
    "# To examine the data of one student at index 353\n",
    "# This student has 2 parents who left school on or before age 9, he/she hopes\n",
    "# to go to higher education, he/she has had 4 absences in the year and he/she\n",
    "# has scored 8 out of 20 in the three tests that year, a failing grade.\n",
    "\n",
    "dfgrade.set_index(\"Medu\")\n",
    "dfgrade.loc[(353)]\n"
   ]
  },
  {
   "cell_type": "code",
   "execution_count": null,
   "metadata": {},
   "outputs": [],
   "source": [
    "# Identify the name of each column.\n",
    "\n",
    "print(dfgrade.columns)\n"
   ]
  },
  {
   "cell_type": "markdown",
   "metadata": {},
   "source": [
    "\n",
    "\n",
    "#### COMPARING G3 TO MOTHERS' EDUCATION"
   ]
  },
  {
   "cell_type": "code",
   "execution_count": null,
   "metadata": {
    "scrolled": true
   },
   "outputs": [],
   "source": [
    "# Use pandas to cross tabulate the final year grade G3 with mother's education. This data shows us that\n",
    "# only 3 students over the pass grade of 8 had mothers who had no education.  At the other end of the scale students\n",
    "# who scored poorly (below 8) 18 of their mothers had a third level education.  The remaining students (107) of mothers \n",
    "# who had 3rd level education scored above 8.  The highest number of students still in school at secondary level are from\n",
    "# families where their mothers have achieved a 3rd level education(125).\n",
    "\n",
    "pd.crosstab(dfgrade[\"Medu\"], dfgrade[\"G3\"], margins = True)\n"
   ]
  },
  {
   "cell_type": "code",
   "execution_count": null,
   "metadata": {},
   "outputs": [],
   "source": [
    "# Use seaborn to plot the data above to examine the relationship between mother's grade\n",
    "# and child performance in school. A count plot can is a histogram across \n",
    "# a categorical, instead of quantitative, variable. \n",
    "\n",
    "import seaborn as sns\n",
    "\n",
    "sns.countplot(x = \"G3\", hue=\"Medu\", data = dfgrade);\n",
    "\n",
    "# The plot clearly shows a high correlation between mother's education and the child's\n",
    "# G3 school grade.  The purple bar represents mothers with 3rd level education and this\n",
    "# bar is most highly correlated with children in the 14 - 20 grade scores.\n"
   ]
  },
  {
   "cell_type": "code",
   "execution_count": null,
   "metadata": {},
   "outputs": [],
   "source": [
    "# Seaborn's relplot probably gives a clearer visualisation of the relationship between\n",
    "# the student's final grade (G3) and his/her mother's education.  The different shades of purple\n",
    "# relate to mother's education, and we can see more students with higher grades have mothers with higher education.\n",
    "sns.relplot(x=\"G3\", y = \"Medu\", hue = \"Medu\", data=dfgrade);"
   ]
  },
  {
   "cell_type": "code",
   "execution_count": null,
   "metadata": {},
   "outputs": [],
   "source": [
    "# Plotting two variables, mothers' education and G3 on the same Axis\n",
    "import matplotlib.pyplot as plt\n",
    "sns.distplot( dfgrade[\"Medu\"] , color=\"skyblue\", label=\"Medu\")\n",
    "sns.distplot( dfgrade[\"G3\"] , color=\"red\", label=\"G3\")\n",
    "plt.legend()\n",
    " \n",
    "plt.show()\n",
    "\n",
    "# This plot shows the correlation between mother's education and student grade."
   ]
  },
  {
   "cell_type": "markdown",
   "metadata": {},
   "source": [
    "\n",
    "\n",
    "#### COMPARING G3 TO FATHERS' EDUCATION"
   ]
  },
  {
   "cell_type": "code",
   "execution_count": null,
   "metadata": {},
   "outputs": [],
   "source": [
    "# Use pandas to cross tabulate the final year grade G3 with father's education. This data shows us that\n",
    "# only 2 students over the pass grade of 8 had fathers who had no education.  At the other end of the scale students\n",
    "# who scored poorly (below 8) 11 of their fathers had a third level education.  The remaining students (77) of fathers \n",
    "# in the 3rd level category scored above 8.  The highest number of students still in school at this stage are from\n",
    "# families where their fathers have achieved a primary education. \n",
    "\n",
    "# It seems therefore that mother's education correlates more positively with children's achievement.\n",
    "\n",
    "pd.crosstab(dfgrade[\"Fedu\"], dfgrade[\"G3\"], margins = True)\n"
   ]
  },
  {
   "cell_type": "code",
   "execution_count": null,
   "metadata": {},
   "outputs": [],
   "source": [
    "# Use seaborn to plot the data above to examine the relationship between father's grade\n",
    "# and child performance in school.\n",
    "\n",
    "sns.countplot(x = \"G3\", hue=\"Fedu\", data = dfgrade);\n",
    "\n",
    "# The plot shows a medium correlation between father's education and the child's\n",
    "# G3 school grade.  The purple bar represents fathers with 3rd level education and this\n",
    "# bar is correlated with children in the 14 - 20 grade score.\n"
   ]
  },
  {
   "cell_type": "code",
   "execution_count": null,
   "metadata": {},
   "outputs": [],
   "source": [
    "# Seaborn's relplot probably gives a clearer visualisation of the relationship between\n",
    "# the student's final grade (G3) and his/her father's education.  The different shades of purple\n",
    "# relate to father's education, and we can see students with higher grades have fathers with higher education.\n",
    "# The correlation is not as close between Fedu and G3 as it was with Medu and G3.\n",
    "\n",
    "sns.relplot(x=\"G3\", y = \"Fedu\", hue = \"Fedu\", data=dfgrade);"
   ]
  },
  {
   "cell_type": "code",
   "execution_count": null,
   "metadata": {},
   "outputs": [],
   "source": [
    "# Plotting fathers' education and G3 on the same Axis\n",
    "sns.distplot( dfgrade[\"Fedu\"] , color=\"skyblue\", label=\"Fedu\")\n",
    "sns.distplot( dfgrade[\"G3\"] , color=\"red\", label=\"G3\")\n",
    "plt.legend()\n",
    " \n",
    "plt.show()\n",
    "\n",
    "# This plot shows the correlation between father's education and grade score."
   ]
  },
  {
   "cell_type": "markdown",
   "metadata": {},
   "source": [
    "\n",
    "\n",
    "#### COMPARING G3 AND ABSENCES"
   ]
  },
  {
   "cell_type": "code",
   "execution_count": null,
   "metadata": {},
   "outputs": [],
   "source": [
    "# Show the cross tabulation of the G3 score with the number of days\n",
    "# the student was absent from school.\n",
    "\n",
    "pd.crosstab(dfgrade[\"absences\"], dfgrade[\"G3\"], margins = True)\n"
   ]
  },
  {
   "cell_type": "code",
   "execution_count": null,
   "metadata": {},
   "outputs": [],
   "source": [
    "# Using seaborn barplot to demonstrate the correlation between the \n",
    "# number of absent days and the G3 grade the students scored.  The barchart\n",
    "# shows clearly that students who missed 20+ days of school were\n",
    "# mainly represented in the lower scores and students with 5 or fewer\n",
    "# absence days are highly represented in the 14+ grade point scores. \n",
    "\n",
    "sns.barplot(x = \"G3\", y=\"absences\", ci = None, data = dfgrade);\n"
   ]
  },
  {
   "cell_type": "code",
   "execution_count": null,
   "metadata": {},
   "outputs": [],
   "source": [
    "# Plotting absences and G3 on the same Axis\n",
    "sns.distplot( dfgrade[\"absences\"] , color=\"skyblue\", label=\"absences\")\n",
    "sns.distplot( dfgrade[\"G3\"] , color=\"red\", label=\"G3\")\n",
    "plt.legend()\n",
    " \n",
    "plt.show()\n",
    "\n",
    "# This plot shows the high correlation between fewer absences and higher grade score."
   ]
  },
  {
   "cell_type": "markdown",
   "metadata": {},
   "source": [
    "\n",
    "\n",
    "#### COMPARING G3 TO 3RD LEVEL INTENTIONS"
   ]
  },
  {
   "cell_type": "code",
   "execution_count": null,
   "metadata": {},
   "outputs": [],
   "source": [
    "# Crosstabulating final grade, G3, with intention to go to 3rd Level.\n",
    "\n",
    "# This data cannot be said to be useful in predicting grades\n",
    "# for students in maths.  Because this is a secondary school most\n",
    "# students attending would intend to study at third level.  It seems\n",
    "# that in the Portugese educational system it is normal to leave\n",
    "# at 15 if you are not planning 3rd level.  Therefore it is safe to\n",
    "# assume that those who go to secondary want to go to third level even\n",
    "# if their grades do not make that a likely outcome.  I have discontinued\n",
    "# using this variable for any further analysis.\n",
    "\n",
    "\n",
    "pd.crosstab(dfgrade[\"higher\"], [\"G3\"], margins = True)\n"
   ]
  },
  {
   "cell_type": "markdown",
   "metadata": {},
   "source": [
    "\n",
    "\n",
    "#### PLOTTING VARIABLES TOGETHER"
   ]
  },
  {
   "cell_type": "code",
   "execution_count": null,
   "metadata": {},
   "outputs": [],
   "source": [
    "# plot the four variables together.\n",
    "f, axes = plt.subplots(2, 2, figsize=(7, 7), sharex=True)\n",
    "sns.distplot( dfgrade[\"Medu\"] , color=\"skyblue\", ax=axes[0, 0])\n",
    "sns.distplot( dfgrade[\"Fedu\"] , color=\"olive\", ax=axes[0, 1])\n",
    "sns.distplot( dfgrade[\"G3\"] , color=\"gold\", ax=axes[1, 0])\n",
    "sns.distplot( dfgrade[\"absences\"] , color=\"teal\", ax=axes[1, 1])\n",
    "\n",
    "# These plots display that the mothers in the sample have the wider differences in education levels, the father's education\n",
    "# levels are concentrated more.  The third plot shows that the grades attained by the sample average around 10/11.  The fourth\n",
    "# plot shows that the majority of students were absent for 10 days or less.\n"
   ]
  },
  {
   "cell_type": "markdown",
   "metadata": {},
   "source": [
    "### PLOTTING THE FOUR VARIABLES SEPARATELY"
   ]
  },
  {
   "cell_type": "code",
   "execution_count": null,
   "metadata": {},
   "outputs": [],
   "source": [
    "# Creating a histogram to illustrate mothers' educational attainment.\n",
    "\n",
    "from pandas import DataFrame\n",
    "\n",
    "Medu = dfgrade.iloc[:,[0]]\n",
    "Medu.hist(bins = 20)\n",
    "plt.title(\"Mothers' Education\")\n",
    "plt.xlabel(\"Education Level\")\n",
    "plt.ylabel(\"Number of Mothers/Frequency\")\n",
    "\n",
    "\n"
   ]
  },
  {
   "cell_type": "code",
   "execution_count": null,
   "metadata": {},
   "outputs": [],
   "source": [
    "# Creating a histogram to illustrate fathers' educational attainment.\n",
    "\n",
    "import numpy as np\n",
    "\n",
    "Fedu = dfgrade.iloc[:,[1]]\n",
    "                    \n",
    "Fedu.hist(bins = 20)\n",
    "                    \n",
    "plt.title(\"Fathers' Education\")\n",
    "plt.xlabel(\"Education Level\")\n",
    "plt.ylabel(\"Number of Fathers/Frequency\")\n",
    "\n"
   ]
  },
  {
   "cell_type": "code",
   "execution_count": null,
   "metadata": {},
   "outputs": [],
   "source": [
    "# Creating a histogram to illustrate absenteeism in the simulated student group.\n",
    "\n",
    "absences = dfgrade.iloc[:,[3]]\n",
    "#print(absences)\n",
    "\n",
    "absences.hist(bins = 20)\n",
    "plt.title(\"Absences\")\n",
    "plt.xlabel(\"Days absent\")\n",
    "plt.ylabel(\"Number of Students\")\n",
    "\n"
   ]
  },
  {
   "cell_type": "code",
   "execution_count": null,
   "metadata": {},
   "outputs": [],
   "source": [
    "# Creating a histogram to illustrate final year grades (G3).\n",
    "\n",
    "G3 = dfgrade.iloc[:,[6]]\n",
    "G3.hist(bins = 20)\n",
    "plt.title(\"Final Grade\")\n",
    "plt.xlabel(\"Score\")\n",
    "plt.ylabel(\"Number of Students/Frequency\")\n",
    "\n"
   ]
  },
  {
   "cell_type": "markdown",
   "metadata": {},
   "source": [
    "#### Projection\n",
    "These histograms will be useful to see if the simulated data I create is representative of the original real world\n",
    "data.  I will compare each with the histograms produced on the simulated data."
   ]
  },
  {
   "cell_type": "markdown",
   "metadata": {},
   "source": [
    "\n",
    "\n",
    "### CREATE DATASETS WHICH SIMULATE THE FOUR VARIABLES (MEDU, FEDU, ABSENCES AND G3)- Objective 3"
   ]
  },
  {
   "cell_type": "markdown",
   "metadata": {},
   "source": [
    "#### EXTRA SOURCES\n",
    "\n",
    "https://numpy.org/doc/stable/reference/generated/numpy.histogram.html\n",
    "Useful to check correct syntax.\n",
    "\n",
    "https://datatofish.com/list-to-dataframe/\n",
    "I realised I had to change lists to dataframes so I could compare/contrast.\n",
    "\n",
    "https://stackoverflow.com/users/959876/moldovean\n",
    "A very handy guide to loc and iloc to isolate a column.\n",
    "\n",
    "https://scipy-lectures.org/packages/scikit-learn/index.html\n",
    "I did a lot of research on machine learning when trying to find some way to\n",
    "make the simulated data similar to the real world data, this site was very informative.\n",
    "\n",
    "https://www.tutorialspoint.com/numpy/numpy_statistical_functions.html\n",
    "This site helped me adapt the function I got from the runaway horse source below to my situation.\n",
    "    \n",
    "https://github.com/runawayhorse001/statspy/blob/master/statspy/basics.py\n",
    "This was the most useful source I found and I have been down many disappointing alleyways! It gave\n",
    "me a defined function that I could apply to my real world data to recreate datasets which had the \n",
    "same number of samples, the same mean and standard deviation.  A simulated dataset which shares these in common with a real world dataset is representative of the real world dataset.\n",
    "\n",
    "https://www.youtube.com/watch?v=xlD8FIM5biA from a website called OSPY.\n",
    "This site helped me to save my images correctly and import them into my notebook."
   ]
  },
  {
   "cell_type": "code",
   "execution_count": null,
   "metadata": {},
   "outputs": [],
   "source": [
    "# Creating a dataset to simulate Medu\n",
    "\n",
    "# Source of function \n",
    "# https://github.com/runawayhorse001/statspy/blob/master/statspy/basics.py\n",
    "\n",
    "from scipy.stats import norm\n",
    "\n",
    "def rnorm(n, mean=0, sd=1):\n",
    "    \"\"\"\n",
    "    Random generation for the normal distribution with mean \n",
    "    equal to mean and standard deviation equation to sd\n",
    "    same functions as rnorm in r: ``rnorm(n, mean=0, sd=1)``\n",
    "    :param n: the number of the observations\n",
    "    :param mean: vector of means\n",
    "    :param sd: vector of standard deviations\n",
    "    :return: the vector of the random numbers  \n",
    "    :author: Wenqiang Feng\n",
    "    :email:  von198@gmail.com\n",
    "    \"\"\"\n",
    "    return norm.rvs(loc=mean, scale=sd, size=n)\n",
    "\n",
    "\n",
    "mu = 2.788301\n",
    "SD = 1.095841\n",
    "N = 359\n",
    "\n",
    "simulated_data = rnorm(359, 2.788301, 1.095841)\n",
    "print(simulated_data)\n",
    "\n",
    "# This function returns 359 samples with the given mean and standard deviation.\n",
    "\n"
   ]
  },
  {
   "cell_type": "code",
   "execution_count": null,
   "metadata": {},
   "outputs": [],
   "source": [
    "# preparing to plot the simulated Medu dataset.\n",
    "\n",
    "a = simulated_data\n",
    "\n",
    "hist, bins = np.histogram(a, bins = [0,1,2,3,4])\n",
    "print(hist)\n",
    "print(bins)"
   ]
  },
  {
   "cell_type": "code",
   "execution_count": null,
   "metadata": {},
   "outputs": [],
   "source": [
    "# A histogram to illustrate mothers' simulated education levels\n",
    "\n",
    "a = simulated_data\n",
    "plt.hist(a, bins = [0,1,2,3,4])\n",
    "plt.title(\"Mothers' Education\")\n",
    "plt.xlabel(\"Education Level\")\n",
    "plt.ylabel(\"Number of Mothers/Frequency\")\n",
    "\n",
    "# this is not completely comparable to the real data above, where most of the sample had achieved \n",
    "# 3rd level education (level 4)"
   ]
  },
  {
   "cell_type": "code",
   "execution_count": null,
   "metadata": {},
   "outputs": [],
   "source": [
    "# using image from ipython to bring the histogram of the real world \n",
    "# Medu data to this position.\n",
    "\n",
    "from IPython.display import Image\n",
    "Image(filename=\"img/medu.png\")"
   ]
  },
  {
   "cell_type": "code",
   "execution_count": null,
   "metadata": {},
   "outputs": [],
   "source": [
    "# Creating a dataset to simulate Fedu.\n",
    "\n",
    "mu =2.540390 \n",
    "SD =1.084637\n",
    "N = 359\n",
    "\n",
    "# This function returns 359 samples with the given mean and standard deviation.\n",
    "\n",
    "simulated_data1 = rnorm(359,2.540390 , 1.084637)\n",
    "print(simulated_data1)\n"
   ]
  },
  {
   "cell_type": "code",
   "execution_count": null,
   "metadata": {},
   "outputs": [],
   "source": [
    "#prepare to plot the dataset of fathers' education/Fedu.\n",
    "\n",
    "b = simulated_data1\n",
    "hist, bins = np.histogram(b, bins =[0,1,2,3,4])\n",
    "print(hist)\n",
    "print(bins)"
   ]
  },
  {
   "cell_type": "code",
   "execution_count": null,
   "metadata": {},
   "outputs": [],
   "source": [
    "# A histogram to illustrate simulated dataset for fathers' education. \n",
    "\n",
    "b = simulated_data1\n",
    "\n",
    "plt.hist(b, bins = [0, 1, 2, 3, 4])\n",
    "plt.title(\"Fathers' Education\")\n",
    "plt.xlabel(\"Education Level\")\n",
    "plt.ylabel(\"Number of Fathers/Frequency\")\n",
    "\n",
    "# This plot is closer to the plot from the real dataset.\n"
   ]
  },
  {
   "cell_type": "code",
   "execution_count": null,
   "metadata": {},
   "outputs": [],
   "source": [
    "# using image from ipython to bring the histogram of the real world \n",
    "# Fedu data to this position.\n",
    "\n",
    "Image(filename=\"img/fedu.png\")"
   ]
  },
  {
   "cell_type": "code",
   "execution_count": null,
   "metadata": {},
   "outputs": [],
   "source": [
    "# Creating a dataset to simulate Absences\n",
    "\n",
    "mu=6.281337\n",
    "SD=8.178283\n",
    "N=359\n",
    "\n",
    "# This produces a simulated data set but because the standard deviation is so high,\n",
    "# there are many negative values.  I decided to square all the values then get their\n",
    "# square roots to have all positive values.\n",
    "\n",
    "# This function returns 359 samples with the given mean and standard deviation.\n",
    "simulated_data2 = rnorm(359, 6.281337, 8.178283)\n",
    "#print(simulated_data2)\n",
    "\n",
    "# This code squares every element i on the list l.\n",
    "l = simulated_data2\n",
    "[i**2 for i in l]\n",
    "\n",
    "\n"
   ]
  },
  {
   "cell_type": "code",
   "execution_count": null,
   "metadata": {},
   "outputs": [],
   "source": [
    "# l is the original simulated dataset created by the function rnorm.  l1 is the dataset created\n",
    "# by squaring every element of l.\n",
    "l = simulated_data2\n",
    "l1 = [i**2 for i in l]\n",
    "\n",
    "# use the numpy sqrt function to get the square root of each element of l1, call the new list l2.\n",
    "l2 = np.sqrt(l1)\n",
    "#print(l2)"
   ]
  },
  {
   "cell_type": "code",
   "execution_count": null,
   "metadata": {},
   "outputs": [],
   "source": [
    "# Prepare to plot the absence data.\n",
    "\n",
    "hist, bins = np.histogram(l2)\n",
    "print(hist)\n",
    "print(bins)"
   ]
  },
  {
   "cell_type": "code",
   "execution_count": null,
   "metadata": {},
   "outputs": [],
   "source": [
    "# Creating a histogram to illustrate absenteeism in the simulated student group.\n",
    "\n",
    "plt.hist(l2)\n",
    "plt.title(\"Absences\")\n",
    "plt.xlabel(\"Absent Days\")\n",
    "plt.ylabel(\"Number of Students\")\n",
    "\n",
    "# This dataset is still not correct and doesn't correlate with the real data."
   ]
  },
  {
   "cell_type": "code",
   "execution_count": null,
   "metadata": {},
   "outputs": [],
   "source": [
    "# using image from ipython to bring the histogram of the real world \n",
    "# Absences data to this position.\n",
    "\n",
    "Image(filename=\"img/absences.png\")"
   ]
  },
  {
   "cell_type": "code",
   "execution_count": null,
   "metadata": {},
   "outputs": [],
   "source": [
    "# Creating a dataset to simulate G3\n",
    "\n",
    "mu = 11.45961\n",
    "SD = 3.33140\n",
    "N = 359\n",
    "\n",
    "simulated_data3 = rnorm(359, 11.45961, 3.33140)\n",
    "print(simulated_data3)\n",
    "\n"
   ]
  },
  {
   "cell_type": "code",
   "execution_count": null,
   "metadata": {},
   "outputs": [],
   "source": [
    "# Preparing data to plot.\n",
    "d = simulated_data3\n",
    "\n",
    "hist, bins = np.histogram(d, bins = 20 )\n",
    "print(hist)\n",
    "print(bins)"
   ]
  },
  {
   "cell_type": "code",
   "execution_count": null,
   "metadata": {},
   "outputs": [],
   "source": [
    "# Creating a histogram to illustrate G3, the final year score in the simulated student group.\n",
    "\n",
    "d = simulated_data3\n",
    "plt.hist(d)\n",
    "plt.title(\"G3\")\n",
    "plt.xlabel(\"Exam Score\")\n",
    "plt.xticks(range(1,21))\n",
    "plt.ylabel(\"Number of Students/Frequency\")\n",
    "\n",
    "\n",
    "# this dataset correlates well with the real dataset for student final exam scores, G3."
   ]
  },
  {
   "cell_type": "code",
   "execution_count": null,
   "metadata": {},
   "outputs": [],
   "source": [
    "# Using image from ipython to bring the histogram of the real world \n",
    "# G3 data to this position.\n",
    "\n",
    "Image(filename=\"img/g3.png\")"
   ]
  },
  {
   "cell_type": "markdown",
   "metadata": {},
   "source": [
    "### Results\n",
    "\n",
    "1. I sourced a suitable dataset of student attributes across a variety of variables.\n",
    "2. I imported the dataset into this jupyter notebook and isolated 359 samples across\n",
    "    seven variables, I eventually narrowed this down to four variables.\n",
    "3. I analysed the data using crosstabulation and various plots.  I finally made histogram plots\n",
    "    of each of four variables.\n",
    "4. The final task was to create simulated data which shared characteristics with the real world\n",
    "    data.  I used the function rnorm so I could base the simulated data on the real data.\n",
    "5. I made histogram plots to illustrate the simulated datasets.  I then used Image to show the real\n",
    "    world plots beside the simulated data plots.\n",
    "  \n",
    "\n",
    "### Conclusion\n",
    "\n",
    "It is clear that the simulated data doesn't resemble the real world data as much as I would expect, \n",
    "especially the Absences dataset.  I am not entirely happy with the outcome but I have certainly \n",
    "learned a lot more, particularly in the area of research."
   ]
  }
 ],
 "metadata": {
  "kernelspec": {
   "display_name": "Python 3",
   "language": "python",
   "name": "python3"
  },
  "language_info": {
   "codemirror_mode": {
    "name": "ipython",
    "version": 3
   },
   "file_extension": ".py",
   "mimetype": "text/x-python",
   "name": "python",
   "nbconvert_exporter": "python",
   "pygments_lexer": "ipython3",
   "version": "3.8.3"
  }
 },
 "nbformat": 4,
 "nbformat_minor": 4
}

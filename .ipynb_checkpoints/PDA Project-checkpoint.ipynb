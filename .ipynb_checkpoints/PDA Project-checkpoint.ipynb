{
 "cells": [
  {
   "cell_type": "markdown",
   "metadata": {},
   "source": [
    "# PROGRAMMING FOR DATA ANALYSIS PROJECT"
   ]
  },
  {
   "cell_type": "code",
   "execution_count": null,
   "metadata": {},
   "outputs": [],
   "source": [
    "#### Sources\n",
    "\n",
    "P. Cortez and A. Silva. Using Data Mining to Predict Secondary School Student Performance. In A. Brito and J. Teixeira Eds., Proceedings of 5th FUture BUsiness TEChnology Conference (FUBUTEC 2008) pp. 5-12, Porto, Portugal, April, 2008, EUROSIS, ISBN 978-9077381-39-7. \n",
    "http://www3.dsi.uminho.pt/pcortez/student.pdf\n",
    " These two sources were very useful.  I found my dataset in the first source and used the second to find out how the Cortez & Silva\n",
    "study related to predicting success in education by examining variables in the students' lives.\n",
    "\n",
    "http://uis.unesco.org/country/PT\n",
    "    Provides data of population of Portugal broken down by age.\n",
    "    \n",
    "https://www.oecd-ilibrary.org/docserver/9789264117020-4-en.pdf\n",
    "    Provided me with information about Portugese school system.\n",
    "   \n",
    "https://www.shanelynn.ie/using-pandas-dataframe-creating-editing-viewing-data-in-python/\n",
    "    This source helped me to tidy up the dataset into the columns and rows I wanted to keep.\n",
    "\n",
    "https://thispointer.com/python-pandas-how-to-display-full-dataframe-i-e-print-all-rows-columns-without-truncation/\n",
    "    This source helped me to find a way to display all the data in the dataset.\n",
    "    \n",
    "https://www.earthdatascience.org/courses/intro-to-earth-data-science/scientific-data-structures-python/pandas-dataframes/indexing-filtering-data-pandas-dataframes/\n",
    "    This source was very useful with appropriate functions to interpret the data."
   ]
  },
  {
   "cell_type": "markdown",
   "metadata": {},
   "source": [
    "I predict there is a link between the variables; school attendance, mother's education, father's education, plans to attend \n",
    "higher education and achievement.  I will use the dataset produced by Cortez and Silva which includes these variables among others.\n",
    "First I will import the dataset and eliminate the other variables until I have the ones I want to investigate.  "
   ]
  },
  {
   "cell_type": "code",
   "execution_count": null,
   "metadata": {},
   "outputs": [],
   "source": [
    "import pandas as pd\n",
    "\n",
    "# The dataset was in a zipped file so I had to unzip it, save it to my local machine and then read the filename into\n",
    "# Jupyter.  The file was not saved using commas as delimiters so I added the parameter delimiter = ; so Pandas could\n",
    "# organise the information into a separated file of rows and columns.  The folder is saved as student with the other files\n",
    "# relating to this project.  This folder has four files from which I have chosen the file to do with achievement in maths.\n",
    "\n",
    "df = pd.read_csv(\"student/student-mat.csv\", delimiter=\";\")\n",
    "# Check if data is correct class\n",
    "print(type(df))\n",
    "\n",
    "# Check the types of data; object, int etc\n",
    "df.dtypes\n",
    "\n",
    "# Show the full dataframe\n",
    "print(df)"
   ]
  },
  {
   "cell_type": "code",
   "execution_count": null,
   "metadata": {},
   "outputs": [],
   "source": [
    "import pandas as pd\n",
    "\n",
    "df = pd.read_csv(\"student/student-mat.csv\", delimiter=\";\")\n",
    "\n",
    "\n",
    "# Use the drop function to take all the columns out which I will not be using.\n",
    "df = df.drop([\"school\", \"sex\", \"age\", \"address\",\"famsize\", \"Pstatus\", \"Mjob\", \"Fjob\", \"reason\", \"guardian\", \"traveltime\", \n",
    "              \"studytime\", \"failures\", \"schoolsup\", \"famsup\", \"paid\", \"activities\", \"nursery\", \"internet\", \n",
    "              \"romantic\", \"famrel\", \"freetime\", \"goout\", \"Dalc\", \"Walc\", \"health\"], axis=1)\n",
    "\n",
    "\n",
    "# Having crosstabulated all the data there is a large number of students who got\n",
    "# 0 as their final grade (G3).  I am going to take this group out of the cohort\n",
    "# because they are skewing the statistics.  I assume for one reason or another they\n",
    "# did not take the final exam.  I found this out further down and came back to this cell.\n",
    "df = df.drop([128, 130, 131, 134, 135, 136, 136, 137, 140, 144, 146, 148,\n",
    "            150, 153, 160, 162, 168, 170, 173, 221, 239, 242, 244,\n",
    "        259, 264, 269, 296, 310, 316, 332, 333, 334, 337,\n",
    "        341, 367, 387, 389])\n",
    "\n",
    "\n",
    "# Show the new dataframe, it now has 359 rows and 7 columns.\n",
    "# Show the maximum number of rows which are displayed\n",
    "pd.set_option(\"display.max_rows\", None)\n",
    "print(df)"
   ]
  },
  {
   "cell_type": "code",
   "execution_count": null,
   "metadata": {},
   "outputs": [],
   "source": [
    "# Information about the dataframe\n",
    "df.info()"
   ]
  },
  {
   "cell_type": "code",
   "execution_count": null,
   "metadata": {},
   "outputs": [],
   "source": [
    "# Statistical information about the variables\n",
    "df.describe()"
   ]
  },
  {
   "cell_type": "code",
   "execution_count": null,
   "metadata": {},
   "outputs": [],
   "source": [
    "# To examine one data point.\n",
    "df.iloc[0:1,0:1]"
   ]
  },
  {
   "cell_type": "code",
   "execution_count": null,
   "metadata": {},
   "outputs": [],
   "source": [
    "# To examine the data of one student at index 353\n",
    "# This student has 2 parents who left school on or before age 9, he/she hopes\n",
    "# to go to higher education, he/she has had 4 absences in the year and he/she\n",
    "# has scored 8 out of 20 in the three tests that year, a failing grade.\n",
    "\n",
    "df.set_index(\"Medu\")\n",
    "df.loc[(353)]"
   ]
  },
  {
   "cell_type": "code",
   "execution_count": null,
   "metadata": {},
   "outputs": [],
   "source": [
    "# Present the data from each column in a plot.\n",
    "#columns = df.columns\n",
    "#index = df.index\n",
    "#index([\"Medu\", \"Fedu\",\"higher\", \"absences\", \"G1\", \"G2\", \"G3\"])\n",
    "\n",
    "\n",
    "\n",
    "print(df.columns)"
   ]
  },
  {
   "cell_type": "code",
   "execution_count": null,
   "metadata": {
    "scrolled": true
   },
   "outputs": [],
   "source": [
    "from scipy.stats import norm\n",
    "import numpy as np\n",
    "import matplotlib.pyplot as plt\n",
    "\n",
    "#pd.crosstab(df[\"G3\"], df[\"Medu\"], margins = True)\n",
    "fig, ax = plt.subplots()\n",
    "x= np.arange(-4,4,0.001)\n",
    "ax.set_title(\"Mother's Education with Grade3\")\n",
    "ax.set_xlabel(\"G3\")\n",
    "ax.set_ylabel(\"Medu\")\n",
    "ax.plot(x, norm.pdf(x))\n",
    "ax.set_ylim(0,0.45)\n",
    "plt.show()"
   ]
  },
  {
   "cell_type": "code",
   "execution_count": null,
   "metadata": {},
   "outputs": [],
   "source": [
    "import seaborn as sns\n",
    "import matplotlib.pyplot as plt\n",
    "#plt.hist(\"Medu\", \"G3\")\n",
    "sns.countplot(x = \"Medu\", hue=\"G3\", data = df);"
   ]
  },
  {
   "cell_type": "code",
   "execution_count": null,
   "metadata": {},
   "outputs": [],
   "source": [
    "#pd.crosstab(df[\"Fedu\"], df[\"G3\"], margins = True)\n",
    "fig, ax = plt.subplots()\n",
    "x= np.arange(-4,4,0.001)\n",
    "ax.set_title(\"Father's Education with Grade3\")\n",
    "ax.set_xlabel(\"G3\")\n",
    "ax.set_ylabel(\"Fedu\")\n",
    "ax.plot(x, norm.pdf(x))\n",
    "ax.set_ylim(0,0.45)\n",
    "plt.show()"
   ]
  },
  {
   "cell_type": "code",
   "execution_count": null,
   "metadata": {},
   "outputs": [],
   "source": [
    "#pd.crosstab(df[\"absences\"], df[\"G3\"], margins = True)\n",
    "fig, ax = plt.subplots()\n",
    "x= np.arange(-4,4,0.001)\n",
    "ax.set_title(\"Absences with Grade3\")\n",
    "ax.set_xlabel(\"G3\")\n",
    "ax.set_ylabel(\"Absences\")\n",
    "ax.plot(x, norm.pdf(x))\n",
    "ax.set_ylim(0,0.45)\n",
    "plt.show()"
   ]
  },
  {
   "cell_type": "code",
   "execution_count": null,
   "metadata": {},
   "outputs": [],
   "source": [
    "#pd.crosstab(df[\"higher\"], [\"G3\"], margins = True)\n",
    "fig, ax = plt.subplots()\n",
    "x= np.arange(-4,4,0.001)\n",
    "ax.set_title(\"Higher with Grade3\")\n",
    "ax.set_xlabel(\"G3\")\n",
    "ax.set_ylabel(\"Higher\")\n",
    "ax.plot(x, norm.pdf(x))\n",
    "ax.set_ylim(0,0.45)\n",
    "plt.show()"
   ]
  },
  {
   "cell_type": "code",
   "execution_count": null,
   "metadata": {},
   "outputs": [],
   "source": [
    "Having crosstabulated all the data there is a large number of students who got\n",
    "0 as their final grade (G3).  I am going to take this group out of the cohort\n",
    "because they are skewing the statistics.  I assume for one reason or another they\n",
    "did not take the final exam."
   ]
  }
 ],
 "metadata": {
  "kernelspec": {
   "display_name": "Python 3",
   "language": "python",
   "name": "python3"
  },
  "language_info": {
   "codemirror_mode": {
    "name": "ipython",
    "version": 3
   },
   "file_extension": ".py",
   "mimetype": "text/x-python",
   "name": "python",
   "nbconvert_exporter": "python",
   "pygments_lexer": "ipython3",
   "version": "3.8.3"
  }
 },
 "nbformat": 4,
 "nbformat_minor": 4
}

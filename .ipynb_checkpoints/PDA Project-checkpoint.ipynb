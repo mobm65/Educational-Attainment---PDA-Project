{
 "cells": [
  {
   "cell_type": "markdown",
   "metadata": {},
   "source": [
    "# PROGRAMMING FOR DATA ANALYSIS PROJECT"
   ]
  },
  {
   "cell_type": "code",
   "execution_count": null,
   "metadata": {},
   "outputs": [],
   "source": [
    "#### Sources\n",
    "\n",
    "P. Cortez and A. Silva. Using Data Mining to Predict Secondary School Student Performance. In A. Brito and J. Teixeira Eds., Proceedings of 5th FUture BUsiness TEChnology Conference (FUBUTEC 2008) pp. 5-12, Porto, Portugal, April, 2008, EUROSIS, ISBN 978-9077381-39-7. \n",
    "http://www3.dsi.uminho.pt/pcortez/student.pdf\n",
    " These two sources were very useful.  I found my dataset in the first source and used the second to find out how the Cortez & Silva\n",
    "study related to predicting success in education by examining variables in the students' lives.\n",
    "\n",
    "http://uis.unesco.org/country/PT\n",
    "    Provides data of population of Portugal broken down by age.\n",
    "    \n",
    "https://www.oecd-ilibrary.org/docserver/9789264117020-4-en.pdf\n",
    "    Provided me with information about Portugese school system.\n",
    "   \n",
    "https://www.shanelynn.ie/using-pandas-dataframe-creating-editing-viewing-data-in-python/\n",
    "    This source helped me to tidy up the dataset into the columns and rows I wanted to keep.\n",
    "\n",
    "https://thispointer.com/python-pandas-how-to-display-full-dataframe-i-e-print-all-rows-columns-without-truncation/\n",
    "    This source helped me to find a way to display all the data in the dataset.\n",
    "    \n",
    "https://www.earthdatascience.org/courses/intro-to-earth-data-science/scientific-data-structures-python/pandas-dataframes/indexing-filtering-data-pandas-dataframes/\n",
    "    This source was very useful with appropriate functions to interpret the data.\n",
    "\n",
    "https://seaborn.pydata.org/\n",
    "    This source helped me to use correct syntax to plot my data.  It was also excellent to help me choose which plots to use.\n",
    "    \n",
    "https://www.bing.com/videos/search?q=normal+distribution+python\n",
    "    A useful video to help me code a normal distribution plot.\n",
    "    \n",
    "\n",
    "https://stackoverflow.com/questions/16312006/python-numpy-random-normal-only-positive-values\n",
    "    All my values are positive so a normal distribution will not show my data.  This site \n",
    "    suggested I try a binomial distribution.  A binomial distribution is a discrete distribution\n",
    "    which only represents yes/no or true/false options so this will not do.\n",
    "    \n",
    "https://python-graph-gallery.com/25-histogram-with-several-variables-seaborn/\n",
    "https://towardsdatascience.com/histograms-and-density-plots-in-python-f6bda88f5ac0\n",
    "    These sites helped me with data snippets I could manipulate to create plots to display \n",
    "    my dataset.\n",
    "\n",
    "        \n"
   ]
  },
  {
   "cell_type": "markdown",
   "metadata": {},
   "source": [
    "I predict there is a link between the variables; school attendance, mother's education, father's education, plans to attend \n",
    "higher education and achievement.  I will use the dataset produced by Cortez and Silva which includes these variables among others.\n",
    "First I will import the dataset and eliminate the other variables until I have the ones I want to investigate.  "
   ]
  },
  {
   "cell_type": "code",
   "execution_count": null,
   "metadata": {},
   "outputs": [],
   "source": [
    "# Import library and dataset.\n",
    "import pandas as pd\n",
    "\n",
    "# The dataset was in a zipped file so I had to unzip it, save it to my local machine and then read the filename into\n",
    "# Jupyter.  The file was not saved using commas as delimiters so I added the parameter delimiter = ; so Pandas could\n",
    "# organise the information into a separated file of rows and columns.  The folder is saved as student with the other files\n",
    "# relating to this project.  This folder has four files from which I have chosen the file to do with achievement in maths.\n",
    "\n",
    "dfgrade = pd.read_csv(\"student/student-mat.csv\", delimiter=\";\")\n",
    "# Check if data is correct class\n",
    "print(type(dfgrade))\n",
    "\n",
    "# Check the types of data; object, int etc.\n",
    "dfgrade.dtypes\n",
    "\n",
    "# Show the full dataframe\n",
    "print(dfgrade)"
   ]
  },
  {
   "cell_type": "code",
   "execution_count": null,
   "metadata": {},
   "outputs": [],
   "source": [
    "# Import library and dataset.\n",
    "import pandas as pd\n",
    "\n",
    "dfgrade = pd.read_csv(\"student/student-mat.csv\", delimiter=\";\")\n",
    "\n",
    "\n",
    "# Use the drop function to take all the columns out which I will not be using.\n",
    "dfgrade = dfgrade.drop([\"school\", \"sex\", \"age\", \"address\",\"famsize\", \"Pstatus\", \"Mjob\", \"Fjob\", \"reason\", \"guardian\", \"traveltime\", \n",
    "              \"studytime\", \"failures\", \"schoolsup\", \"famsup\", \"paid\", \"activities\", \"nursery\", \"internet\", \n",
    "              \"romantic\", \"famrel\", \"freetime\", \"goout\", \"Dalc\", \"Walc\", \"health\"], axis=1)\n",
    "\n",
    "\n",
    "# Having crosstabulated all the data there is a large number of students who got\n",
    "# 0 as their final grade (G3).  I am going to take this group out of the cohort\n",
    "# because they are skewing the statistics.  I assume for one reason or another they\n",
    "# did not take the final exam.  I found this out further down and came back to this cell.\n",
    "dfgrade = dfgrade.drop([128, 130, 131, 134, 135, 136, 136, 137, 140, 144, 146, 148,\n",
    "            150, 153, 160, 162, 168, 170, 173, 221, 239, 242, 244,\n",
    "        259, 264, 269, 296, 310, 316, 332, 333, 334, 337,\n",
    "        341, 367, 387, 389])\n",
    "\n",
    "\n",
    "\n",
    "# Show the new dataframe, it now has 359 rows and 7 columns.\n",
    "# Show the maximum number of rows which are displayed\n",
    "pd.set_option(\"display.max_rows\", None)\n",
    "print(dfgrade)"
   ]
  },
  {
   "cell_type": "code",
   "execution_count": null,
   "metadata": {},
   "outputs": [],
   "source": [
    "# Information about the dataframe\n",
    "dfgrade.info()"
   ]
  },
  {
   "cell_type": "code",
   "execution_count": null,
   "metadata": {},
   "outputs": [],
   "source": [
    "# Statistical information about the variables\n",
    "dfgrade.describe()"
   ]
  },
  {
   "cell_type": "code",
   "execution_count": null,
   "metadata": {},
   "outputs": [],
   "source": [
    "# To examine one data point.\n",
    "dfgrade.iloc[0:1,0:1]"
   ]
  },
  {
   "cell_type": "code",
   "execution_count": null,
   "metadata": {},
   "outputs": [],
   "source": [
    "# To examine the data of one student at index 353\n",
    "# This student has 2 parents who left school on or before age 9, he/she hopes\n",
    "# to go to higher education, he/she has had 4 absences in the year and he/she\n",
    "# has scored 8 out of 20 in the three tests that year, a failing grade.\n",
    "\n",
    "dfgrade.set_index(\"Medu\")\n",
    "dfgrade.loc[(353)]"
   ]
  },
  {
   "cell_type": "code",
   "execution_count": null,
   "metadata": {},
   "outputs": [],
   "source": [
    "# Define the type of data each column repreents.\n",
    "\n",
    "print(dfgrade.columns)"
   ]
  },
  {
   "cell_type": "code",
   "execution_count": null,
   "metadata": {
    "scrolled": true
   },
   "outputs": [],
   "source": [
    "\n",
    "# Use pandas to cross tabulate the final year grade G3 with mother's education\n",
    "\n",
    "pd.crosstab(dfgrade[\"G3\"], dfgrade[\"Medu\"], margins = True)\n"
   ]
  },
  {
   "cell_type": "code",
   "execution_count": null,
   "metadata": {},
   "outputs": [],
   "source": [
    "# Use seaborn to plot the data above to examine the relationship between mother's grade\n",
    "# and child performance in school. A count plot can is a histogram across \n",
    "# a categorical, instead of quantitative, variable. \n",
    "\n",
    "import seaborn as sns\n",
    "\n",
    "sns.countplot(x = \"G3\", hue=\"Medu\", data = dfgrade);\n",
    "\n",
    "# The plot clearly shows a high correlation between mother's education and the child's\n",
    "# G3 school grade.  The purple bar represents mothers with 3rd level education and this\n",
    "# bar is most highly correlated with children in the 14 - 20 grade scores."
   ]
  },
  {
   "cell_type": "code",
   "execution_count": null,
   "metadata": {},
   "outputs": [],
   "source": [
    "# Use pandas to cross tabulate the final year grade G3 with father's education\n",
    "\n",
    "pd.crosstab(dfgrade[\"Fedu\"], dfgrade[\"G3\"], margins = True)\n"
   ]
  },
  {
   "cell_type": "code",
   "execution_count": null,
   "metadata": {},
   "outputs": [],
   "source": [
    "# Use seaborn to plot the data above to examine the relationship between father's grade\n",
    "# and child performance in school.\n",
    "\n",
    "# Import library.\n",
    "import seaborn as sns\n",
    "\n",
    "sns.countplot(x = \"G3\", hue=\"Fedu\", data = dfgrade);\n",
    "\n",
    "# The plot shows a medium correlation between father's education and the child's\n",
    "# G3 school grade.  The purple bar represents fathers with 3rd level education and this\n",
    "# bar is correlated with children in the 14 - 20 grade score."
   ]
  },
  {
   "cell_type": "code",
   "execution_count": null,
   "metadata": {},
   "outputs": [],
   "source": [
    "\n",
    "# Show the cross tabulation of the G3 score with the number of days\n",
    "# the student was absent from school.\n",
    "\n",
    "\n",
    "pd.crosstab(dfgrade[\"absences\"], dfgrade[\"G3\"], margins = True)\n",
    "\n",
    "\n"
   ]
  },
  {
   "cell_type": "code",
   "execution_count": null,
   "metadata": {},
   "outputs": [],
   "source": [
    "# Using seaborn barplot to demonstrate the correlation between the \n",
    "# number of absent days and the G3 grade the students scored.  The barchart\n",
    "# shows clearly that students who missed 20+ days of school were\n",
    "# mainly represented in the lower scores and students with 5 or fewer\n",
    "# absence days are highly represented in the 14+ grade point scores. \n",
    "\n",
    "sns.barplot(x = \"G3\", y=\"absences\", ci = None, data = dfgrade);"
   ]
  },
  {
   "cell_type": "code",
   "execution_count": null,
   "metadata": {},
   "outputs": [],
   "source": [
    "# This data cannot be said to be useful in predicting grades\n",
    "# for students in maths.  Because this is a secondary school most\n",
    "# students attending would intend to attend third level.  It seems\n",
    "# that in the Portugese educational system it is normal to leave\n",
    "# at 15 if you are not planning 3rd level.  Therefore it is safe to\n",
    "# assume that those who go to secondary want to go to third level even\n",
    "# if their grades do not make that a likely outcome.\n",
    "\n",
    "pd.crosstab(dfgrade[\"higher\"], [\"G3\"], margins = True)\n"
   ]
  },
  {
   "cell_type": "code",
   "execution_count": null,
   "metadata": {},
   "outputs": [],
   "source": [
    "dfgrade.describe()"
   ]
  },
  {
   "cell_type": "code",
   "execution_count": null,
   "metadata": {},
   "outputs": [],
   "source": [
    "# Import library.\n",
    "import matplotlib.pyplot as plt\n",
    "import numpy as np\n",
    "from scipy.stats import norm\n",
    "\n",
    "#mean, standard deviation = 2.8,1.1\n",
    "\n",
    "medu = np.random.normal(0, 4, 365)\n",
    "#print(medu)\n",
    "\n",
    "plt.plot(medu, norm.pdf(medu,2.8,1.1))\n",
    "plt.title(\"Mother's Education correlated with G3\")\n",
    "plt.xlabel(\"G3\")\n",
    "plt.ylabel(\"Mother's Education\")\n",
    "plt.show\n",
    "\n",
    "# The subsequent normal distribution plot does not resemble a plot which would \n",
    "# represent all positive data.  I will research some more suitable plots to display my dataset.\n"
   ]
  },
  {
   "cell_type": "code",
   "execution_count": null,
   "metadata": {},
   "outputs": [],
   "source": [
    "# Import library.\n",
    "import seaborn as sns\n",
    "import matplotlib.pyplot as plt\n",
    "\n",
    " \n",
    "# plot\n",
    "f, axes = plt.subplots(2, 2, figsize=(7, 7), sharex=True)\n",
    "sns.distplot( dfgrade[\"Medu\"] , color=\"skyblue\", ax=axes[0, 0])\n",
    "sns.distplot( dfgrade[\"Fedu\"] , color=\"olive\", ax=axes[0, 1])\n",
    "sns.distplot( dfgrade[\"G3\"] , color=\"gold\", ax=axes[1, 0])\n",
    "sns.distplot( dfgrade[\"absences\"] , color=\"teal\", ax=axes[1, 1])\n",
    "\n",
    "# These plots display that the mothers in the sample have the wider differences in education levels, the father's education\n",
    "# levels are concentrated more.  The third plot shows that the grades attained by the sample average around 10/11.  The fourth\n",
    "# plot shows that the majority of students were absent for 4 days or less."
   ]
  },
  {
   "cell_type": "code",
   "execution_count": null,
   "metadata": {},
   "outputs": [],
   "source": [
    "# Import library.\n",
    "import seaborn as sns\n",
    "import matplotlib.pyplot as plt\n",
    " \n",
    "# Plotting two variables on the same Axis\n",
    "sns.distplot( dfgrade[\"Medu\"] , color=\"skyblue\", label=\"Medu\")\n",
    "sns.distplot( dfgrade[\"G3\"] , color=\"red\", label=\"G3\")\n",
    "plt.legend()\n",
    " \n",
    "plt.show()\n",
    "\n",
    "# This plot shows the correlation between mother's education and \n",
    "# grade."
   ]
  },
  {
   "cell_type": "code",
   "execution_count": null,
   "metadata": {},
   "outputs": [],
   "source": [
    "# Import library and dataset\n",
    "import seaborn as sns\n",
    "import matplotlib.pyplot as plt\n",
    "\n",
    "\n",
    " \n",
    "# Method 1: on the same Axis\n",
    "sns.distplot( dfgrade[\"Fedu\"] , color=\"skyblue\", label=\"Fedu\")\n",
    "sns.distplot( dfgrade[\"G3\"] , color=\"red\", label=\"G3\")\n",
    "plt.legend()\n",
    " \n",
    "plt.show()\n",
    "\n",
    "# This plot shows the correlation between father's education and grade score."
   ]
  },
  {
   "cell_type": "code",
   "execution_count": null,
   "metadata": {},
   "outputs": [],
   "source": [
    "# Import library and dataset\n",
    "import seaborn as sns\n",
    "import matplotlib.pyplot as plt\n",
    "\n",
    "\n",
    " \n",
    "# Method 1: on the same Axis\n",
    "sns.distplot( dfgrade[\"absences\"] , color=\"skyblue\", label=\"absences\")\n",
    "sns.distplot( dfgrade[\"G3\"] , color=\"red\", label=\"G3\")\n",
    "plt.legend()\n",
    " \n",
    "plt.show()\n",
    "\n",
    "# This plot shows the correlation between absences and grade score."
   ]
  },
  {
   "cell_type": "code",
   "execution_count": null,
   "metadata": {},
   "outputs": [],
   "source": []
  }
 ],
 "metadata": {
  "kernelspec": {
   "display_name": "Python 3",
   "language": "python",
   "name": "python3"
  },
  "language_info": {
   "codemirror_mode": {
    "name": "ipython",
    "version": 3
   },
   "file_extension": ".py",
   "mimetype": "text/x-python",
   "name": "python",
   "nbconvert_exporter": "python",
   "pygments_lexer": "ipython3",
   "version": "3.8.3"
  }
 },
 "nbformat": 4,
 "nbformat_minor": 4
}
